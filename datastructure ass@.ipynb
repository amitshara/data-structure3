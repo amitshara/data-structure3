{
  "cells": [
    {
      "cell_type": "markdown",
      "source": [
        "#Q1.\n",
        "- data structure is way of organize and store data, so that we can use the data efficiently..\n",
        "\n",
        "#Q2.\n",
        "- mutable data is that data which can be change after creation (e.g. list)\n",
        "immutable data type is data type which can not be changed after creation..(e.g. tuple)\n",
        "\n",
        "#Q3.\n",
        "- list is mutable but tuple is immutable.\n",
        "\n",
        "#Q4.\n",
        "-In python dictionary store the data with the form of \"key\" and \"value\" pair.\n",
        "\n",
        "#Q5.\n",
        "- because set have always unique and ordered data..\n",
        "\n",
        "#Q6.\n",
        "- string is type of data in python\n",
        "string is immutable but list is immutable\n",
        "\n",
        "#Q7.\n",
        "- because tuples are immutables\n",
        "\n",
        "#Q8.\n",
        "- A hash table is a data structure that stores key-value pairs. It uses a hashing function to map keys to unique indices\n",
        "\n",
        "#Q9.\n",
        "- yes list can store many data types\n",
        "\n",
        "#Q10.\n",
        "- main reason behind string are immutable is security and data integrity\n",
        "\n",
        "#Q11.\n",
        "- Dictionaries are particularly advantageous for key-value mapping and fast lookups, while lists excel at ordered collections and sequential access.\n",
        "\n",
        "#Q12.\n",
        "- when data is very confidential we will prefer the tuple over list\n",
        "\n",
        "#Q13.\n",
        "-  Python, sets are unordered collections of unique elements. When you add duplicate values to a set, Python automatically removes the duplicates\n",
        "\n",
        "\n",
        "#Q14.\n",
        "- The in keyword in Python is used to check if an element exists in a list, dictionary, set, or other iterable. However, the way it operates internally differs between lists and dictionaries.\n",
        "\n",
        "#Q15.\n",
        "- we can modify tuples because it is immutable..\n",
        "\n",
        "#Q16.\n",
        "-A nested dictionary is a dictionary where some of the values are themselves dictionaries.\n",
        "\n",
        "store_inventory = {\n",
        "    \"electronics\": {\n",
        "        \"laptops\": {\"HP\": 10, \"Dell\": 5, \"MacBook\": 2},\n",
        "        \"phones\": {\"iPhone\": 15, \"Samsung\": 20}\n",
        "    },\n",
        "    \"furniture\": {\n",
        "        \"tables\": {\"Wooden Table\": 5, \"Glass Table\": 3},\n",
        "        \"chairs\": {\"Office Chair\": 10, \"Dining Chair\": 8}\n",
        "    }\n",
        "}\n",
        "\n",
        "\n",
        "#Q17.\n",
        "-In Python, dictionaries are implemented using hash tables. The time complexity for accessing elements in a dictionary depends on whether you're accessing a value by its key or performing other dictionary operations.\n",
        "\n",
        "#Q18.\n",
        "- when we have to store multiple types of data in liner form then we preffer list over dictionary\n",
        "\n",
        "#Q19\n",
        "- Dictionaries in Python are considered unordered because they do not maintain the order of the elements based on the sequence in which they are inserted. The key-value pairs in a dictionary are stored in a way that optimizes performance for lookups, insertions, and deletions, rather than for maintaining a specific order\n",
        "\n",
        "\n",
        "#Q20.\n",
        "- n Python, lists and dictionaries are both built-in data structures, but they are optimized for different types of use cases, and their performance and methods for retrieving data are quite different."
      ],
      "metadata": {
        "id": "l3mlYxUIGk9E"
      }
    },
    {
      "cell_type": "code",
      "source": [
        "#Q1.\n",
        "\n",
        "name = \"amit kumar sharma\"\n",
        "\n",
        "print(name)"
      ],
      "metadata": {
        "colab": {
          "base_uri": "https://localhost:8080/"
        },
        "id": "wH5iO6ZS-Dvc",
        "outputId": "7830dade-6134-4e58-de7c-46e6fda0c414"
      },
      "execution_count": 1,
      "outputs": [
        {
          "output_type": "stream",
          "name": "stdout",
          "text": [
            "amit kumar sharma\n"
          ]
        }
      ]
    },
    {
      "cell_type": "code",
      "source": [
        "#Q2.\n",
        "\n",
        "a = \"hello world\"\n",
        "\n",
        "len(a)"
      ],
      "metadata": {
        "colab": {
          "base_uri": "https://localhost:8080/"
        },
        "id": "zY3TVot3-Phn",
        "outputId": "7e56f057-84ec-4cd7-8397-6361b263d6fa"
      },
      "execution_count": 2,
      "outputs": [
        {
          "output_type": "execute_result",
          "data": {
            "text/plain": [
              "11"
            ]
          },
          "metadata": {},
          "execution_count": 2
        }
      ]
    },
    {
      "cell_type": "code",
      "source": [
        "#Q3.\n",
        "\n",
        "a = \"python programming\"\n",
        "\n",
        "a[0:3]"
      ],
      "metadata": {
        "colab": {
          "base_uri": "https://localhost:8080/",
          "height": 36
        },
        "id": "zO05zS92-dbf",
        "outputId": "8059733b-51c0-4053-88e1-6678c7dee32e"
      },
      "execution_count": 4,
      "outputs": [
        {
          "output_type": "execute_result",
          "data": {
            "text/plain": [
              "'pyt'"
            ],
            "application/vnd.google.colaboratory.intrinsic+json": {
              "type": "string"
            }
          },
          "metadata": {},
          "execution_count": 4
        }
      ]
    },
    {
      "cell_type": "code",
      "source": [
        "#Q4.\n",
        "\n",
        "a = \"hello\"\n",
        "\n",
        "a.upper()\n",
        "\n"
      ],
      "metadata": {
        "colab": {
          "base_uri": "https://localhost:8080/",
          "height": 36
        },
        "id": "IjNgtzuB-uC3",
        "outputId": "59623864-3918-44ba-a9b2-a57b8c96bc99"
      },
      "execution_count": 5,
      "outputs": [
        {
          "output_type": "execute_result",
          "data": {
            "text/plain": [
              "'HELLO'"
            ],
            "application/vnd.google.colaboratory.intrinsic+json": {
              "type": "string"
            }
          },
          "metadata": {},
          "execution_count": 5
        }
      ]
    },
    {
      "cell_type": "code",
      "source": [
        "#Q5.\n",
        "\n",
        "a = \"i like apple\"\n",
        "\n",
        "b = a.replace(\"apple\",\"orange\")\n",
        "\n",
        "print(b)\n",
        "\n"
      ],
      "metadata": {
        "colab": {
          "base_uri": "https://localhost:8080/"
        },
        "id": "NWVvjYvC--sQ",
        "outputId": "30fc23de-375e-46f9-e49e-7cfa293bc2af"
      },
      "execution_count": 8,
      "outputs": [
        {
          "output_type": "stream",
          "name": "stdout",
          "text": [
            "i like orange\n"
          ]
        }
      ]
    },
    {
      "cell_type": "code",
      "source": [
        "#Q6.\n",
        "\n",
        "num = [1,2,3,4,5]\n",
        "\n",
        "print(num)"
      ],
      "metadata": {
        "colab": {
          "base_uri": "https://localhost:8080/"
        },
        "id": "uSKCWhwP_fiu",
        "outputId": "c82a571a-a45a-4ca7-cecd-8a68e369202c"
      },
      "execution_count": 9,
      "outputs": [
        {
          "output_type": "stream",
          "name": "stdout",
          "text": [
            "[1, 2, 3, 4, 5]\n"
          ]
        }
      ]
    },
    {
      "cell_type": "code",
      "source": [
        "#Q7.\n",
        "\n",
        "list1 = [1,2,3,4]\n",
        "\n",
        "list1.append(10)\n",
        "\n",
        "print(list1)\n"
      ],
      "metadata": {
        "colab": {
          "base_uri": "https://localhost:8080/"
        },
        "id": "jGIkKgmV_01u",
        "outputId": "7cb4babd-fd9b-483c-fe7e-7a8e255e19d2"
      },
      "execution_count": 15,
      "outputs": [
        {
          "output_type": "stream",
          "name": "stdout",
          "text": [
            "[1, 2, 3, 4, 10]\n"
          ]
        }
      ]
    },
    {
      "cell_type": "code",
      "source": [
        "#Q8.\n",
        "\n",
        "list1 = [1,2,3,4,5]\n",
        "\n",
        "\n",
        "list1.remove(3)\n",
        "\n",
        "print(list1)"
      ],
      "metadata": {
        "colab": {
          "base_uri": "https://localhost:8080/"
        },
        "id": "IzHD8ifNAKQ3",
        "outputId": "b9708147-be80-4552-efcd-f62d8e888a12"
      },
      "execution_count": 16,
      "outputs": [
        {
          "output_type": "stream",
          "name": "stdout",
          "text": [
            "[1, 2, 4, 5]\n"
          ]
        }
      ]
    },
    {
      "cell_type": "code",
      "source": [
        "#Q9.\n",
        "\n",
        "list1 = [\"a\",\"b\",\"c\",\"d\"]\n",
        "\n",
        "list1[1]"
      ],
      "metadata": {
        "colab": {
          "base_uri": "https://localhost:8080/",
          "height": 36
        },
        "id": "CgcxoThoA1sl",
        "outputId": "c3fa8a66-e62d-49c4-dd24-bc04d2f02b88"
      },
      "execution_count": 17,
      "outputs": [
        {
          "output_type": "execute_result",
          "data": {
            "text/plain": [
              "'b'"
            ],
            "application/vnd.google.colaboratory.intrinsic+json": {
              "type": "string"
            }
          },
          "metadata": {},
          "execution_count": 17
        }
      ]
    },
    {
      "cell_type": "code",
      "source": [
        "#Q10.\n",
        "\n",
        "list1 = [10, 20, 30, 40, 50]\n",
        "\n",
        "\n",
        "\n",
        "list1.reverse()\n",
        "\n",
        "print(list1)\n"
      ],
      "metadata": {
        "colab": {
          "base_uri": "https://localhost:8080/"
        },
        "id": "SKtMy9X2BKzh",
        "outputId": "cef3371f-143e-484a-9677-e8068eda87a7"
      },
      "execution_count": 25,
      "outputs": [
        {
          "output_type": "stream",
          "name": "stdout",
          "text": [
            "[50, 40, 30, 20, 10]\n"
          ]
        }
      ]
    },
    {
      "cell_type": "code",
      "source": [
        "#Q11.\n",
        "\n",
        "a = (10,20,30)\n",
        "\n",
        "print(a)"
      ],
      "metadata": {
        "colab": {
          "base_uri": "https://localhost:8080/"
        },
        "id": "pdl7rtm6BZbg",
        "outputId": "0bca2b2c-5061-4738-8eee-ad8bb34e186d"
      },
      "execution_count": 26,
      "outputs": [
        {
          "output_type": "stream",
          "name": "stdout",
          "text": [
            "(10, 20, 30)\n"
          ]
        }
      ]
    },
    {
      "cell_type": "code",
      "source": [
        "#Q12.\n",
        "\n",
        "a =  ('apple', 'banana', 'cherry')\n",
        "\n",
        "a[0]\n",
        "\n"
      ],
      "metadata": {
        "colab": {
          "base_uri": "https://localhost:8080/",
          "height": 36
        },
        "id": "ddH5PKJRB9EY",
        "outputId": "f7db6b4b-70cf-4fdf-cb67-33b32a06b2ac"
      },
      "execution_count": 29,
      "outputs": [
        {
          "output_type": "execute_result",
          "data": {
            "text/plain": [
              "'apple'"
            ],
            "application/vnd.google.colaboratory.intrinsic+json": {
              "type": "string"
            }
          },
          "metadata": {},
          "execution_count": 29
        }
      ]
    },
    {
      "cell_type": "code",
      "source": [
        "#Q13\n",
        "\n",
        "a = (1, 2, 3, 2, 4, 2)\n",
        "\n",
        "a.count(2)"
      ],
      "metadata": {
        "colab": {
          "base_uri": "https://localhost:8080/"
        },
        "id": "9i8av_CQCM1s",
        "outputId": "f052f5e8-4124-4c66-9d6a-e3e6a8e95724"
      },
      "execution_count": 30,
      "outputs": [
        {
          "output_type": "execute_result",
          "data": {
            "text/plain": [
              "3"
            ]
          },
          "metadata": {},
          "execution_count": 30
        }
      ]
    },
    {
      "cell_type": "code",
      "source": [
        "#Q14\n",
        "\n",
        "a = ('dog', 'cat', 'rabbit')\n",
        "\n",
        "a.index(\"cat\")"
      ],
      "metadata": {
        "colab": {
          "base_uri": "https://localhost:8080/"
        },
        "id": "x6uDcAPTCd9E",
        "outputId": "4ada780b-687d-44d0-d5be-9231e630e3b7"
      },
      "execution_count": 31,
      "outputs": [
        {
          "output_type": "execute_result",
          "data": {
            "text/plain": [
              "1"
            ]
          },
          "metadata": {},
          "execution_count": 31
        }
      ]
    },
    {
      "cell_type": "code",
      "source": [
        "#Q15.\n",
        "\n",
        "list1 =  ('apple', 'orange', 'banana')\n",
        "\n",
        "if \"banana\" in list1:\n",
        "    print(\"banana is there\")\n",
        "else:\n",
        "    print(\"banana is not there\")"
      ],
      "metadata": {
        "colab": {
          "base_uri": "https://localhost:8080/"
        },
        "id": "76011HSDDIap",
        "outputId": "e7a2b5af-2d62-4854-810b-9f1ec5df5b74"
      },
      "execution_count": 32,
      "outputs": [
        {
          "output_type": "stream",
          "name": "stdout",
          "text": [
            "banana is there\n"
          ]
        }
      ]
    },
    {
      "cell_type": "code",
      "source": [
        "#Q16.\n",
        "a = ( 1, 2, 3, 4, 5 )\n",
        "\n",
        "set1 = set(a)\n",
        "\n",
        "print(set1)"
      ],
      "metadata": {
        "colab": {
          "base_uri": "https://localhost:8080/"
        },
        "id": "ixN5DXrDDi4o",
        "outputId": "cbb5b3e1-15b2-429a-c009-f2e4222c8bf9"
      },
      "execution_count": 34,
      "outputs": [
        {
          "output_type": "stream",
          "name": "stdout",
          "text": [
            "{1, 2, 3, 4, 5}\n"
          ]
        }
      ]
    },
    {
      "cell_type": "code",
      "source": [
        "#Q17.\n",
        "\n",
        "set1 =  {1, 2, 3, 4}\n",
        "\n",
        "set1.add(6)\n",
        "\n",
        "print(set1)"
      ],
      "metadata": {
        "colab": {
          "base_uri": "https://localhost:8080/"
        },
        "id": "mytQKtO3Dx9Y",
        "outputId": "25e0857a-8523-446d-e694-93b3c61639b2"
      },
      "execution_count": 36,
      "outputs": [
        {
          "output_type": "stream",
          "name": "stdout",
          "text": [
            "{1, 2, 3, 4, 6}\n"
          ]
        }
      ]
    },
    {
      "cell_type": "code",
      "source": [
        "#Q18.\n",
        "\n",
        "list1 = [10, 20, 30]\n",
        "\n",
        "tuple1 = tuple(list1)\n",
        "\n",
        "print(tuple1)"
      ],
      "metadata": {
        "colab": {
          "base_uri": "https://localhost:8080/"
        },
        "id": "aiVGpl7nEN1n",
        "outputId": "24f8dbb3-deeb-4916-809c-d26a06c6cd09"
      },
      "execution_count": 37,
      "outputs": [
        {
          "output_type": "stream",
          "name": "stdout",
          "text": [
            "(10, 20, 30)\n"
          ]
        }
      ]
    },
    {
      "cell_type": "code",
      "source": [
        "#Q19.\n",
        "\n",
        "tuple1 = ('apple', 'banana', 'cherry')\n",
        "\n",
        "tuple1[0]"
      ],
      "metadata": {
        "colab": {
          "base_uri": "https://localhost:8080/",
          "height": 36
        },
        "id": "_hVzUsweEf85",
        "outputId": "7338543d-5870-4fb6-c663-ef3b04eb7e88"
      },
      "execution_count": 40,
      "outputs": [
        {
          "output_type": "execute_result",
          "data": {
            "text/plain": [
              "'apple'"
            ],
            "application/vnd.google.colaboratory.intrinsic+json": {
              "type": "string"
            }
          },
          "metadata": {},
          "execution_count": 40
        }
      ]
    },
    {
      "cell_type": "code",
      "source": [
        "#Q20.\n",
        "\n",
        "tuple1 = (1, 2, 3, 2, 4, 2)\n",
        "\n",
        "tuple1.count(2)"
      ],
      "metadata": {
        "colab": {
          "base_uri": "https://localhost:8080/"
        },
        "id": "jfCdulflEsUs",
        "outputId": "6e2a3b68-fcf2-4716-91ef-e35fc3dd725a"
      },
      "execution_count": 41,
      "outputs": [
        {
          "output_type": "execute_result",
          "data": {
            "text/plain": [
              "3"
            ]
          },
          "metadata": {},
          "execution_count": 41
        }
      ]
    },
    {
      "cell_type": "code",
      "source": [
        "#Q21.\n",
        "\n",
        "tuple1 =  ('dog', 'cat', 'rabbit')\n",
        "\n",
        "tuple1.index(\"cat\")"
      ],
      "metadata": {
        "colab": {
          "base_uri": "https://localhost:8080/"
        },
        "id": "hb00PI1wE-Rg",
        "outputId": "d9596f2f-91ba-447e-d534-79dd25a88557"
      },
      "execution_count": 42,
      "outputs": [
        {
          "output_type": "execute_result",
          "data": {
            "text/plain": [
              "1"
            ]
          },
          "metadata": {},
          "execution_count": 42
        }
      ]
    },
    {
      "cell_type": "code",
      "source": [
        "#Q22.\n",
        "\n",
        "list1 = ('apple', 'orange', 'banana')\n",
        "\n",
        "if \"banana\" in list1:\n",
        "    print(\"banana is there\")\n",
        "else:\n",
        "    print(\"banana is not there\")"
      ],
      "metadata": {
        "colab": {
          "base_uri": "https://localhost:8080/"
        },
        "id": "JkN5qPl1FXV7",
        "outputId": "5829f1ff-dff8-4325-fdea-c5f6761618aa"
      },
      "execution_count": 43,
      "outputs": [
        {
          "output_type": "stream",
          "name": "stdout",
          "text": [
            "banana is there\n"
          ]
        }
      ]
    },
    {
      "cell_type": "code",
      "source": [
        "#Q23.\n",
        "\n",
        "list1 = [ 1, 2, 3, 4, 5]\n",
        "\n",
        "set1 = set(list1)\n",
        "\n",
        "print(set1)"
      ],
      "metadata": {
        "colab": {
          "base_uri": "https://localhost:8080/"
        },
        "id": "_8mNfVfnFp4b",
        "outputId": "08dc3ffd-1665-4e72-9bba-41a90f5d1869"
      },
      "execution_count": 44,
      "outputs": [
        {
          "output_type": "stream",
          "name": "stdout",
          "text": [
            "{1, 2, 3, 4, 5}\n"
          ]
        }
      ]
    },
    {
      "cell_type": "code",
      "source": [
        "#Q24.\n",
        "\n",
        "set1 =  {1, 2, 3, 4}\n",
        "\n",
        "\n",
        "set1.add(6)\n",
        "\n",
        "print(set1)"
      ],
      "metadata": {
        "colab": {
          "base_uri": "https://localhost:8080/"
        },
        "id": "mPO5yfxGF42C",
        "outputId": "3c38cbc4-c828-4f6e-d2eb-74f6c40d237c"
      },
      "execution_count": 45,
      "outputs": [
        {
          "output_type": "stream",
          "name": "stdout",
          "text": [
            "{1, 2, 3, 4, 6}\n"
          ]
        }
      ]
    },
    {
      "cell_type": "code",
      "source": [],
      "metadata": {
        "id": "cNYGT001GGeV"
      },
      "execution_count": null,
      "outputs": []
    }
  ],
  "metadata": {
    "colab": {
      "name": "Welcome to Colaboratory",
      "toc_visible": true,
      "provenance": []
    },
    "kernelspec": {
      "display_name": "Python 3",
      "name": "python3"
    }
  },
  "nbformat": 4,
  "nbformat_minor": 0
}